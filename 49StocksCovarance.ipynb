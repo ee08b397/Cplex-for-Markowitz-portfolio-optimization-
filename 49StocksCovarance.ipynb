{
 "cells": [
  {
   "cell_type": "code",
   "execution_count": 1,
   "metadata": {
    "collapsed": true
   },
   "outputs": [],
   "source": [
    "import cplex\n",
    "import pandas as pd\n",
    "import pandas_datareader as web\n",
    "import numpy as np\n",
    "import datetime\n",
    "import matplotlib.pyplot as plt"
   ]
  },
  {
   "cell_type": "code",
   "execution_count": 2,
   "metadata": {
    "collapsed": true
   },
   "outputs": [],
   "source": [
    "sp_49 = pd.read_csv('SP500_preparation.csv') # the dataframe got from the SP500_preparation.ipynb\n",
    "names = sp_49.names # get the names of stocks in the stock pool"
   ]
  },
  {
   "cell_type": "markdown",
   "metadata": {},
   "source": [
    "## Covariance matrix"
   ]
  },
  {
   "cell_type": "code",
   "execution_count": 6,
   "metadata": {
    "collapsed": true
   },
   "outputs": [],
   "source": [
    "# set starting and ending time\n",
    "\n",
    "start = datetime.datetime(2016,10,1)\n",
    "end = datetime.datetime(2017,10,1)\n",
    "\n",
    "# make a dict: key is the name of stock, value is an array of monthly increasing rate\n",
    "sp_50_dict = {}"
   ]
  },
  {
   "cell_type": "code",
   "execution_count": 53,
   "metadata": {
    "collapsed": true
   },
   "outputs": [],
   "source": [
    "sp_50_cov = np.zeros((49,49)) # covariance mat"
   ]
  },
  {
   "cell_type": "code",
   "execution_count": 54,
   "metadata": {
    "collapsed": true
   },
   "outputs": [],
   "source": [
    "# build covariance matrix\n",
    "def calculate_increases(name, start, end, period):\n",
    "    try:\n",
    "        prices = web.DataReader(name, 'yahoo', start, end)\n",
    "    except:\n",
    "        return None\n",
    "    \n",
    "    Endings = prices.Close\n",
    "    for i in range(len(Endings)):\n",
    "        if Endings[i] is np.nan: Endings[i] = Endings[i-1]    \n",
    "    increases = []\n",
    "    for i in range(len(Endings) - period):\n",
    "        increase = (Endings[i+period] - Endings[i])/Endings[i]\n",
    "        increases.append(increase)\n",
    "    increases_ = np.array(increases)\n",
    "    return increases\n",
    "\n",
    "for name in names:\n",
    "    sp_50_dict[name] = calculate_increases(name, start, end, 20)\n",
    "\n",
    "for i in range(49):\n",
    "    for j in range(49):\n",
    "        cov = np.cov(sp_50_dict[names[i]], sp_50_dict[names[j]])[0][1]\n",
    "        sp_50_cov[i,j] = cov"
   ]
  },
  {
   "cell_type": "code",
   "execution_count": 55,
   "metadata": {},
   "outputs": [
    {
     "data": {
      "text/plain": [
       "array([[  1.37574584e-03,   6.72125365e-04,   3.29816509e-04, ...,\n",
       "          3.73579948e-04,   8.06249450e-04,  -2.68508939e-04],\n",
       "       [  6.72125365e-04,   1.21846822e-03,   5.11816612e-04, ...,\n",
       "          7.49738675e-05,   5.58203128e-04,   2.93384055e-04],\n",
       "       [  3.29816509e-04,   5.11816612e-04,   3.59680577e-03, ...,\n",
       "          4.89127721e-04,   3.10055708e-04,   4.80534456e-04],\n",
       "       ..., \n",
       "       [  3.73579948e-04,   7.49738675e-05,   4.89127721e-04, ...,\n",
       "          8.29181071e-04,   3.64037953e-04,  -3.47438085e-04],\n",
       "       [  8.06249450e-04,   5.58203128e-04,   3.10055708e-04, ...,\n",
       "          3.64037953e-04,   1.00950920e-03,  -3.31596714e-04],\n",
       "       [ -2.68508939e-04,   2.93384055e-04,   4.80534456e-04, ...,\n",
       "         -3.47438085e-04,  -3.31596714e-04,   2.55120053e-03]])"
      ]
     },
     "execution_count": 55,
     "metadata": {},
     "output_type": "execute_result"
    }
   ],
   "source": [
    "sp_50_cov.to_csv('49StocksCovariance.csv')\n",
    "sp_50_cov"
   ]
  }
 ],
 "metadata": {
  "kernelspec": {
   "display_name": "Python [default]",
   "language": "python",
   "name": "python3"
  },
  "language_info": {
   "codemirror_mode": {
    "name": "ipython",
    "version": 3
   },
   "file_extension": ".py",
   "mimetype": "text/x-python",
   "name": "python",
   "nbconvert_exporter": "python",
   "pygments_lexer": "ipython3",
   "version": "3.5.3"
  }
 },
 "nbformat": 4,
 "nbformat_minor": 2
}
